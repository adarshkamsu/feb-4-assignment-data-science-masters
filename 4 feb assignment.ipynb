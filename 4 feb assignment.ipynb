{
 "cells": [
  {
   "cell_type": "markdown",
   "id": "393ce42e-d5fd-44db-bde8-10370d5081f1",
   "metadata": {},
   "source": [
    "####  Q1. Create a python program to sort the given list of tuples based on integer value using a\n",
    "####   lambda function.\n",
    "####   [('Sachin Tendulkar', 34357), ('Ricky Ponting', 27483), ('Jack Kallis', 25534), ('Virat Kohli', 24936)]"
   ]
  },
  {
   "cell_type": "code",
   "execution_count": 14,
   "id": "b565560b-69b7-45af-9b2a-abb17dcfc9ee",
   "metadata": {},
   "outputs": [
    {
     "name": "stdout",
     "output_type": "stream",
     "text": [
      "[('Virat Kohli', 24936), ('Jack Kallis', 25534), ('Ricky Ponting', 27483), ('Sachin Tendulkar', 34357)]\n"
     ]
    }
   ],
   "source": [
    "data = [('Sachin Tendulkar', 34357), ('Ricky Ponting', 27483), ('Jack Kallis', 25534), ('Virat Kohli', 24936)]\n",
    "\n",
    "sorted_data = sorted(data, key=lambda x: x[1])\n",
    "\n",
    "print(sorted_data)\n"
   ]
  },
  {
   "cell_type": "code",
   "execution_count": null,
   "id": "b84377b0-2e85-4346-9a88-5ba8b4d0a2c2",
   "metadata": {},
   "outputs": [],
   "source": []
  },
  {
   "cell_type": "markdown",
   "id": "e78d4484-0675-4f03-b965-2fe5c0243a00",
   "metadata": {},
   "source": [
    "####  Q2. Write a Python Program to find the squares of all the numbers in the given list of integers using\n",
    "####  lambda and map functions.\n",
    "####  [1, 2, 3, 4, 5, 6, 7, 8, 9, 10]"
   ]
  },
  {
   "cell_type": "code",
   "execution_count": 6,
   "id": "bfb59f83-886d-4566-ae41-ad7db5e9169c",
   "metadata": {},
   "outputs": [],
   "source": [
    "l = [1, 2, 3, 4, 5, 6, 7, 8, 9, 10]\n",
    "def sq(x):\n",
    "    return x**2"
   ]
  },
  {
   "cell_type": "code",
   "execution_count": 9,
   "id": "749c4ed9-379e-4600-9b6e-c2aae0e1b07e",
   "metadata": {},
   "outputs": [
    {
     "data": {
      "text/plain": [
       "[1, 4, 9, 16, 25, 36, 49, 64, 81, 100]"
      ]
     },
     "execution_count": 9,
     "metadata": {},
     "output_type": "execute_result"
    }
   ],
   "source": [
    "list(map(lambda x : x**2 , l))"
   ]
  },
  {
   "cell_type": "code",
   "execution_count": null,
   "id": "3d3acdfb-e29a-438d-a225-6505135a5955",
   "metadata": {},
   "outputs": [],
   "source": []
  },
  {
   "cell_type": "markdown",
   "id": "479db537-59e6-4733-b347-5d3a06ee2c9c",
   "metadata": {},
   "source": [
    "####  Q3. Write a python program to convert the given list of integers into a tuple of strings. Use map and\n",
    "####   lambda functions\n",
    "####    Given String: [1, 2, 3, 4, 5, 6, 7, 8, 9, 10]\n",
    "####   Expected output: ('1', '2', '3', '4', '5', '6', '7', '8', '9', '10')"
   ]
  },
  {
   "cell_type": "code",
   "execution_count": 19,
   "id": "a1c1449c-c200-4501-868b-59474358a2c4",
   "metadata": {},
   "outputs": [
    {
     "data": {
      "text/plain": [
       "('1', '2', '3', '4', '5', '6', '7', '8', '9', '10')"
      ]
     },
     "execution_count": 19,
     "metadata": {},
     "output_type": "execute_result"
    }
   ],
   "source": [
    "l = [1, 2, 3, 4, 5, 6, 7, 8, 9, 10]\n",
    "tuple(map(lambda x : str(x) , l))"
   ]
  },
  {
   "cell_type": "code",
   "execution_count": null,
   "id": "eda897b9-79f5-4a21-a291-e7e5a7f47aef",
   "metadata": {},
   "outputs": [],
   "source": []
  },
  {
   "cell_type": "markdown",
   "id": "5fd82d49-3912-4d92-ac78-f19809bd1dfc",
   "metadata": {},
   "source": [
    "#### Q4. Write a python program using reduce function to compute the product of a list containing numbers\n",
    "####  from 1 to 25."
   ]
  },
  {
   "cell_type": "code",
   "execution_count": 20,
   "id": "517ed5cf-df5b-4718-b912-af208bed3de1",
   "metadata": {},
   "outputs": [],
   "source": [
    "from functools import reduce"
   ]
  },
  {
   "cell_type": "code",
   "execution_count": 37,
   "id": "7bb6b77d-9055-4fb5-b515-6fc747833f99",
   "metadata": {},
   "outputs": [
    {
     "name": "stdout",
     "output_type": "stream",
     "text": [
      "the outcome of the list is 15511210043330985984000000\n"
     ]
    }
   ],
   "source": [
    "def product(x,y):\n",
    "    return x*y\n",
    "numbers = list(range(1,26))\n",
    "outcome = reduce(product,numbers)\n",
    "print(\"the outcome of the list is\", outcome)"
   ]
  },
  {
   "cell_type": "code",
   "execution_count": null,
   "id": "0b48ed2c-7aff-45a5-85a3-83876d117d42",
   "metadata": {},
   "outputs": [],
   "source": []
  },
  {
   "cell_type": "markdown",
   "id": "152aa60d-9d78-4b34-9569-8626a457d1ba",
   "metadata": {},
   "source": [
    "####  Q5. Write a python program to filter the numbers in a given list that are divisible by 2 and 3 using the\n",
    "#### filter function.\n",
    "####  [2, 3, 6, 9, 27, 60, 90, 120, 55, 46]"
   ]
  },
  {
   "cell_type": "code",
   "execution_count": 42,
   "id": "6e30ac40-6826-496b-bbaa-ff38cb27eecc",
   "metadata": {},
   "outputs": [
    {
     "data": {
      "text/plain": [
       "[6, 60, 90, 120]"
      ]
     },
     "execution_count": 42,
     "metadata": {},
     "output_type": "execute_result"
    }
   ],
   "source": [
    "l = [2, 3, 6, 9, 27, 60, 90, 120, 55, 46]\n",
    "list(filter(lambda x : (x % 2==0) & (x % 3 == 0) ,l))"
   ]
  },
  {
   "cell_type": "code",
   "execution_count": null,
   "id": "d4e801e9-6368-4c21-998a-a6b6e7294006",
   "metadata": {},
   "outputs": [],
   "source": []
  },
  {
   "cell_type": "markdown",
   "id": "bf8b48b3-1ca8-48c9-ad58-6c80448294c5",
   "metadata": {},
   "source": [
    "####  Q6. Write a python program to find palindromes in the given list of strings using lambda and filter\n",
    "#### function.\n",
    "####  ['python', 'php', 'aba', 'radar', 'level']"
   ]
  },
  {
   "cell_type": "code",
   "execution_count": null,
   "id": "5252728c-1064-48fe-966d-3f6caa2d968c",
   "metadata": {},
   "outputs": [],
   "source": []
  }
 ],
 "metadata": {
  "kernelspec": {
   "display_name": "Python 3 (ipykernel)",
   "language": "python",
   "name": "python3"
  },
  "language_info": {
   "codemirror_mode": {
    "name": "ipython",
    "version": 3
   },
   "file_extension": ".py",
   "mimetype": "text/x-python",
   "name": "python",
   "nbconvert_exporter": "python",
   "pygments_lexer": "ipython3",
   "version": "3.10.8"
  }
 },
 "nbformat": 4,
 "nbformat_minor": 5
}
